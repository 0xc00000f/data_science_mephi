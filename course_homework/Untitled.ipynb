{
 "cells": [
  {
   "cell_type": "markdown",
   "metadata": {},
   "source": [
    "### Большое домашнее задание по дисциплине «Анализ данных и машинное обучение»\n",
    "#### 2018/19 уч.г., весенний семестр\n",
    "Студент:<br>\n",
    "Вариант: 4"
   ]
  },
  {
   "cell_type": "markdown",
   "metadata": {},
   "source": [
    "###### Задание № 1 (2 балла)\n",
    "Предложите свой собственный пример задачи, решаемой при помощи методов интеллектуального анализа данных, т.е. сводящейся к одной из следующих задач: поиску часто встречающихся подмножеств или ассоциативных правил, классификации, кластеризации, регрессии, обнаружению аномалий или к их сочетанию. Для предложенной задачи сформулируйте:\n",
    "- объект анализа, \n",
    "- цель анализа, \n",
    "- признаки, описывающие объект (не менее 6 шт.). \n",
    "Для каждого признака укажите тип признака. \n",
    "Для каждого из количественных признаков укажите, является ли он интервальным или относительным, и опишите шкалу измерения признака."
   ]
  },
  {
   "cell_type": "markdown",
   "metadata": {},
   "source": [
    "###### Решение:\n",
    "\n",
    "Примером задачи, решаемой при помощи методов интеллектуального анализа данных, может быть задача аутентификации пользователей на мобильном устройстве (смартфоне) на основе анализа данных, получаемых с гироскопа и акселерометра мобильного устройства.\n",
    "Объектом анализа являются поведенческие характеристики наблюдаемого пользователя.\n",
    "Целью анализа является установить, является ли пользователь валидным. Для решения данной задачи можно использовать метод поиска аномалий, таким образом всё, что будет отличаться от значений признаков валидного пользователя будет считаться аномалией, т.е. действиями невалидных пользователей.\n",
    "Признаки:\n",
    "Для каждого отдельного устройства шкала измерения признаков будет различна, так как зависит от комплектации телефона. Для конкретного примера будем использовать смартфон Xiaomi Mi8\n",
    "- Ускорение по поперечной оси (акселерометр) // Количественный // [-150ms^2; 150ms^2]\n",
    "- Ускорение по продольной оси (акселерометр) // Количественный // [-150ms^2; 150ms^2]\n",
    "- Ускорение по вертикальной оси (акселерометр) // Количественный // [-150ms^2; 150ms^2]\n",
    "- Координата по поперечной оси (гироскоп) // Количественный // [-30rad/s; 30rad/s]\n",
    "- Координата по продольной оси (гироскоп) // Количественный // [-30rad/s; 30rad/s]\n",
    "- Координата по вертикальной оси (гироскоп) // Количественный // [-30rad/s; 30rad/s]"
   ]
  },
  {
   "cell_type": "markdown",
   "metadata": {},
   "source": [
    "###### Задание № 2 (2 балла)\n",
    "Вычислить коэффициенты вейвлета Хаара всех порядков для следующего ряда значений признака:\n",
    "\n",
    "|    i     |    1     |    2     |    3     |    4     |    5     |    6    |    7    |    8    |    9     |    10     |    11      |    12      |    13     |    14     |    15     |    16     |\n",
    "|----------|----------|----------|----------|----------|----------|---------|---------|---------|----------|-----------|------------|------------|-----------|-----------|-----------|-----------|\n",
    "|    x<sub>i</sub>    |    11    |    11    |    13    |    18    |    14    |    9    |    6    |    8    |    12    |    6,5    |    -3,5    |    -0.5    |    0,5    |    3,5    |    7,5    |    9,5    |\n"
   ]
  },
  {
   "cell_type": "code",
   "execution_count": 1,
   "metadata": {},
   "outputs": [
    {
     "name": "stdout",
     "output_type": "stream",
     "text": [
      "[11.0, 15.5, 11.5, 7.0, 9.25, -2.0, 2.0, 8.5]\n",
      "[0.0, -2.5, 2.5, -1.0, 2.75, -1.5, -1.5, -1.0]\n",
      "\n",
      "[13.25, 9.25, 3.625, 5.25]\n",
      "[-2.25, 2.25, 5.625, -3.25]\n",
      "\n",
      "[11.25, 4.4375]\n",
      "[2.0, -0.8125]\n",
      "\n",
      "[7.84375]\n",
      "[3.40625]\n",
      "\n"
     ]
    }
   ],
   "source": [
    "def haar_wavelet(a):\n",
    "    wavelet_minus = []\n",
    "    wavelet_plus = []\n",
    "    for i in range(0, len(a), 2):\n",
    "        wavelet_minus.append((a[i] - a[i+1])/2)\n",
    "        wavelet_plus.append((a[i] + a[i+1])/2)\n",
    "    print(wavelet_plus)\n",
    "    print(wavelet_minus, end=\"\\n\\n\")\n",
    "    if len(wavelet_plus) == 1:\n",
    "        return \n",
    "    return haar_wavelet(wavelet_plus)\n",
    "\n",
    "a = \"11 11 13 18 14 9 6 8 12 6,5 -3,5 -0.5 0,5 3,5 7,5 9,5\".replace(',', '.').split()\n",
    "a = [float(x) for x in a]\n",
    "\n",
    "haar_wavelet(a)"
   ]
  },
  {
   "cell_type": "markdown",
   "metadata": {},
   "source": [
    "###### Задание № 3 (2 балла)\n",
    "Имеется следующая выборка (n=9):\n",
    "\n",
    "| i  | 1   | 2   | 3   | 4   | 5   | 6   | 7   | 8   | 9   |\n",
    "|----|-----|-----|-----|-----|-----|-----|-----|-----|-----|\n",
    "| x<sub>i</sub> | 3,3 | 3,5 | 3,5 | 4,0 | 4,8 | 3,2 | 2,6 | 0,8 | 1,4 | \n",
    "\n",
    "- построить гистограмму выборки, \n",
    "- вычислить взвешенное среднее значение с весами, обратно пропорциональными квадрату разности между значением признака и медианой выборки. Сумма весов должна быть нормирована на 1. Если значение признака совпадает с медианой, то его вес полагается равным 1/n;\n",
    "- вычислить выборочную дисперсию и СКО.\n"
   ]
  },
  {
   "cell_type": "code",
   "execution_count": 2,
   "metadata": {},
   "outputs": [
    {
     "data": {
      "text/plain": [
       "<Figure size 640x480 with 1 Axes>"
      ]
     },
     "metadata": {},
     "output_type": "display_data"
    }
   ],
   "source": [
    "import matplotlib.pyplot as plt\n",
    "\n",
    "b = \"3,3 3,5 3,5 4,0 4,8 3,2 2,6 0,8 1,4\".replace(',', '.').split()\n",
    "b = [float(x) for x in b]\n",
    "histogram = plt.hist(b)\n",
    "plt.show()"
   ]
  },
  {
   "cell_type": "code",
   "execution_count": 3,
   "metadata": {},
   "outputs": [
    {
     "name": "stdout",
     "output_type": "stream",
     "text": [
      "3.2983256458609125\n"
     ]
    }
   ],
   "source": [
    "import statistics\n",
    "\n",
    "med = statistics.median(b)\n",
    "wgh = []\n",
    "\n",
    "for xi in b:\n",
    "    if xi == med:\n",
    "        wgh.append(1/len(b))\n",
    "        continue\n",
    "    w = 1/(xi - med) ** 2\n",
    "    wgh.append(w)\n",
    "    \n",
    "wgh = [w/max(wgh) for w in wgh ]\n",
    "    \n",
    "sum_wx = 0\n",
    "sum_w = 0\n",
    "for w, x in zip(wgh, b):\n",
    "    sum_wx += w*x\n",
    "    sum_w += w\n",
    "print(sum_wx/sum_w)"
   ]
  },
  {
   "cell_type": "markdown",
   "metadata": {},
   "source": [
    "###### Задание № 4 (3 балла)\n",
    "Используя алгоритм Apriori, найти часто встречающиеся подмножества объектов с уровнем поддержки не менее 25% в следующей базе транзакций (продемонстрировать процесс получения результатов).\n",
    "\n",
    "|    №   транзакции    |    Список   объектов в транзакции     |\n",
    "|----------------------|---------------------------------------|\n",
    "|    1                 |    I2, I10, I13, I15                  |\n",
    "|    2                 |    I1, I4, I6, I11, I12, I14          |\n",
    "|    3                 |    I3, I7, I13, I15                   |\n",
    "|    4                 |    I5, I8, I12, I14                   |\n",
    "|    5                 |    I1, I9, I11, I13, I16              |\n",
    "|    6                 |    I2, I4, I6, I8, I12, I14, I15      |\n",
    "|    7                 |    I3, I7, I10, I11, I13, I15, I16    |\n",
    "|    8                 |    I7, I11, I13, I15                  |\n",
    "|    9                 |    I1, I7, I11, I12, I16              |\n",
    "|    10                |    I3, I4, I6, I8, I9, I14            |"
   ]
  },
  {
   "cell_type": "code",
   "execution_count": 7,
   "metadata": {
    "scrolled": true
   },
   "outputs": [
    {
     "name": "stdout",
     "output_type": "stream",
     "text": [
      "1 iteration\n"
     ]
    },
    {
     "data": {
      "text/plain": [
       "I13    5\n",
       "I15    5\n",
       "I12    4\n",
       "I1     3\n",
       "I14    4\n",
       "I4     3\n",
       "I11    5\n",
       "I6     3\n",
       "I7     4\n",
       "I3     3\n",
       "I8     3\n",
       "I16    3\n",
       "dtype: int64"
      ]
     },
     "metadata": {},
     "output_type": "display_data"
    },
    {
     "name": "stdout",
     "output_type": "stream",
     "text": [
      "2 iteration\n"
     ]
    },
    {
     "data": {
      "text/plain": [
       "I13  I15    4\n",
       "     I11    3\n",
       "     I7     3\n",
       "I15  I7     3\n",
       "I12  I14    3\n",
       "I1   I11    3\n",
       "I14  I4     3\n",
       "     I6     3\n",
       "     I8     3\n",
       "I4   I6     3\n",
       "I11  I7     3\n",
       "     I16    3\n",
       "dtype: int64"
      ]
     },
     "metadata": {},
     "output_type": "display_data"
    },
    {
     "name": "stdout",
     "output_type": "stream",
     "text": [
      "[('I13', 'I15'), ('I13', 'I11'), ('I13', 'I7'), ('I15', 'I7'), ('I12', 'I14'), ('I1', 'I11'), ('I14', 'I4'), ('I14', 'I6'), ('I14', 'I8'), ('I4', 'I6'), ('I11', 'I7'), ('I11', 'I16')]\n",
      "3 iteration\n"
     ]
    },
    {
     "data": {
      "text/plain": [
       "I4   I6  I14    3\n",
       "I13  I7  I15    3\n",
       "dtype: int64"
      ]
     },
     "metadata": {},
     "output_type": "display_data"
    },
    {
     "name": "stdout",
     "output_type": "stream",
     "text": [
      "[('I4', 'I6', 'I14'), ('I13', 'I7', 'I15')]\n",
      "4 iteration\n"
     ]
    },
    {
     "data": {
      "text/plain": [
       "Series([], dtype: float64)"
      ]
     },
     "metadata": {},
     "output_type": "display_data"
    },
    {
     "name": "stdout",
     "output_type": "stream",
     "text": [
      "[]\n",
      "[('I4', 'I6', 'I14'), ('I13', 'I7', 'I15')]\n"
     ]
    }
   ],
   "source": [
    "import pandas as pd\n",
    "from collections import Counter\n",
    "import itertools\n",
    "from IPython.display import display\n",
    "\n",
    "arr = [\"I2, I10, I13, I15\",\n",
    "\"I1, I4, I6, I11, I12, I14\",\n",
    "\"I3, I7, I13, I15\",\n",
    "\"I5, I8, I12, I14\",\n",
    "\"I1, I9, I11, I13, I16\",\n",
    "\"I2, I4, I6, I8, I12, I14, I15\",\n",
    "\"I3, I7, I10, I11, I13, I15, I16\",\n",
    "\"I7, I11, I13, I15\",\n",
    "\"I1, I7, I11, I12, I16\",\n",
    "\"I3, I4, I6, I8, I9, I14\"]\n",
    "\n",
    "arr = [s.replace(\" \", \"\").split(',') for s in arr]\n",
    "\n",
    "def apriori(list_after_clipping, num, support = 0.25):\n",
    "    count = Counter()\n",
    "    if num == 1:\n",
    "        pd_arr = pd.DataFrame(arr)\n",
    "        l1 = []\n",
    "        for _, el in pd_arr.iterrows():\n",
    "            l1.append(el.value_counts()) \n",
    "        count = Counter()\n",
    "        for l in l1:\n",
    "            count += Counter(l.to_dict())\n",
    "    else:\n",
    "        comb_list = itertools.combinations(list_after_clipping, num)\n",
    "        for comb in list(comb_list):\n",
    "            for row in arr:\n",
    "                tmp = True\n",
    "                for elem in comb:\n",
    "                    if elem not in row:\n",
    "                        tmp = False\n",
    "                if tmp:\n",
    "                    if comb not in count.keys():\n",
    "                        count[comb] = 1\n",
    "                    else:\n",
    "                        count[comb] += 1\n",
    "\n",
    "    count_after_clipping = {}\n",
    "    for elem, value in count.items():\n",
    "        if value < support*len(arr):\n",
    "            continue\n",
    "        count_after_clipping[elem] = value\n",
    "    print(\"{} iteration\".format(num))\n",
    "    df = pd.Series(count_after_clipping)\n",
    "    display(df)\n",
    "    list_after_clipping = list(count_after_clipping.keys())\n",
    "    if num == 1:\n",
    "        return list_after_clipping, None\n",
    "    print(list_after_clipping)\n",
    "    return list(set(itertools.chain(*list_after_clipping))), list_after_clipping\n",
    "    \n",
    "l = arr.copy()\n",
    "mvp = []\n",
    "for i in range(1, 5):\n",
    "    l, x = apriori(l, i)\n",
    "    if x:\n",
    "        mvp = x\n",
    "print(mvp)"
   ]
  },
  {
   "cell_type": "markdown",
   "metadata": {},
   "source": [
    "###### Задание № 5 (2 балла)\n",
    "Для всех полученных в предыдущей задаче часто встречающихся подмножеств объектов сгенерировать ассоциативные правила с уровнем уверенности не менее 55% (продемонстрировать процесс получения результатов)."
   ]
  },
  {
   "cell_type": "code",
   "execution_count": 5,
   "metadata": {},
   "outputs": [
    {
     "name": "stdout",
     "output_type": "stream",
     "text": [
      "{'I6'} => {'I4', 'I14'}\n",
      "{'I4'} => {'I6', 'I14'}\n",
      "{'I6', 'I4'} => {'I14'}\n",
      "{'I6', 'I14'} => {'I4'}\n",
      "{'I4', 'I14'} => {'I6'}\n",
      "{'I15', 'I7'} => {'I13'}\n",
      "{'I7', 'I13'} => {'I15'}\n"
     ]
    }
   ],
   "source": [
    "def count(transactions, items):\n",
    "    d = {}\n",
    "    for item in items:\n",
    "        for transaction in transactions:\n",
    "            if type(item) != str:\n",
    "                if set(i for i in item).issubset(transaction):\n",
    "                    if item not in d:\n",
    "                        d[item] = 1\n",
    "                    else:\n",
    "                        d[item] += 1\n",
    "            else:\n",
    "                if item in transaction:\n",
    "                    if item not in d:\n",
    "                        d[item] = 1\n",
    "                    else:\n",
    "                        d[item] += 1\n",
    "    return d\n",
    "\n",
    "for elem in mvp:\n",
    "    elem = set(elem)\n",
    "    tmp = []\n",
    "    for l in range(1, len(elem)):\n",
    "        tmp+=list(itertools.combinations(elem, l))\n",
    "    \n",
    "    freq = count(arr, tmp)\n",
    "    for j in tmp:\n",
    "        confidence = 2/freq[j]\n",
    "        if confidence > 0.55:\n",
    "            j = set(x for x in j)\n",
    "            print(j, \"=>\", elem-j)"
   ]
  },
  {
   "cell_type": "code",
   "execution_count": null,
   "metadata": {},
   "outputs": [],
   "source": []
  }
 ],
 "metadata": {
  "kernelspec": {
   "display_name": "Python 3",
   "language": "python",
   "name": "python3"
  },
  "language_info": {
   "codemirror_mode": {
    "name": "ipython",
    "version": 3
   },
   "file_extension": ".py",
   "mimetype": "text/x-python",
   "name": "python",
   "nbconvert_exporter": "python",
   "pygments_lexer": "ipython3",
   "version": "3.7.1"
  }
 },
 "nbformat": 4,
 "nbformat_minor": 2
}
