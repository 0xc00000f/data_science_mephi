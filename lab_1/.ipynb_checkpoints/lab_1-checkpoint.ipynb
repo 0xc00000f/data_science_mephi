{
 "cells": [
  {
   "cell_type": "markdown",
   "metadata": {},
   "source": [
    "# Лабораторная работа № 1\n",
    "### Минимальная оценка - 3 балла\n",
    "### Максимальная оценка - 5 балла\n",
    "Целью данной работы является изучение основных методов пред- и постобработки данных, а так же знакомство с одним из способов понижения размерности.\n",
    "Для успешной сдачи лабораторной работы Вам необходимо предоставить заполненый исходный ноутбук."
   ]
  },
  {
   "cell_type": "code",
   "execution_count": 1,
   "metadata": {},
   "outputs": [],
   "source": [
    "import pandas as pd\n",
    "import numpy as np\n",
    "import matplotlib\n",
    "from matplotlib import pyplot as plt\n",
    "import random\n",
    "from sklearn.preprocessing import StandardScaler\n",
    "matplotlib.style.use('ggplot')\n",
    "%matplotlib inline\n",
    "\n",
    "pd.set_option('display.max_column', 50)"
   ]
  },
  {
   "cell_type": "markdown",
   "metadata": {},
   "source": [
    "## Описание датасета"
   ]
  },
  {
   "cell_type": "markdown",
   "metadata": {},
   "source": [
    "(Датасетом будем называть массив данных с признаковыми описаниями объектов анализа.)\n",
    "\n",
    "Датасет включает в себя информацию по 6000 заявкам на гранты, которые были поданы в университете Мельбурна в период с 2004 по 2008 год.\n",
    "\n",
    "Полную версию данных с большим количеством признаков можно найти на https://www.kaggle.com/c/unimelb.\n",
    "\n",
    "Для работы с csv-файлами бибилиотека pandas предоставляет хороший инструмент, который называется DataFrame (датафрейм)."
   ]
  },
  {
   "cell_type": "code",
   "execution_count": 2,
   "metadata": {},
   "outputs": [
    {
     "data": {
      "text/plain": [
       "(6000, 39)"
      ]
     },
     "execution_count": 2,
     "metadata": {},
     "output_type": "execute_result"
    }
   ],
   "source": [
    "data = pd.read_csv('data.csv')\n",
    "data.shape"
   ]
  },
  {
   "cell_type": "markdown",
   "metadata": {},
   "source": [
    "Выделим из датасета целевую переменную Grant.Status и обозначим её за y. \n",
    "Теперь X обозначает обучающую выборку, y - ответы на ней"
   ]
  },
  {
   "cell_type": "code",
   "execution_count": 3,
   "metadata": {},
   "outputs": [],
   "source": [
    "X = data.drop('Grant.Status', 1)\n",
    "y = data['Grant.Status']"
   ]
  },
  {
   "cell_type": "markdown",
   "metadata": {},
   "source": [
    "## Предобработка данных"
   ]
  },
  {
   "cell_type": "markdown",
   "metadata": {},
   "source": [
    "Для большинства моделей набор данных должен удовлетворять следующим свойствам:\n",
    "- все $X$ должны быть числовыми данными (в случае наличия среди них категорий, их требуется некоторым способом преобразовать в вещественные числа)\n",
    "- среди $X$ не должно быть пропущенных значений (т.е. все пропущенные значения перед применением модели следует каким-то образом заполнить)\n",
    "\n",
    "Поэтому базовым этапом в предобработке любого набора данных будет кодирование номинальных признаков, а так же удаление или интерпретация пропущенных значений (при наличии того или другого)."
   ]
  },
  {
   "cell_type": "code",
   "execution_count": 4,
   "metadata": {},
   "outputs": [
    {
     "data": {
      "text/html": [
       "<div>\n",
       "<style scoped>\n",
       "    .dataframe tbody tr th:only-of-type {\n",
       "        vertical-align: middle;\n",
       "    }\n",
       "\n",
       "    .dataframe tbody tr th {\n",
       "        vertical-align: top;\n",
       "    }\n",
       "\n",
       "    .dataframe thead th {\n",
       "        text-align: right;\n",
       "    }\n",
       "</style>\n",
       "<table border=\"1\" class=\"dataframe\">\n",
       "  <thead>\n",
       "    <tr style=\"text-align: right;\">\n",
       "      <th></th>\n",
       "      <th>Grant.Status</th>\n",
       "      <th>Sponsor.Code</th>\n",
       "      <th>Grant.Category.Code</th>\n",
       "      <th>Contract.Value.Band...see.note.A</th>\n",
       "      <th>RFCD.Code.1</th>\n",
       "      <th>RFCD.Percentage.1</th>\n",
       "      <th>RFCD.Code.2</th>\n",
       "      <th>RFCD.Percentage.2</th>\n",
       "      <th>RFCD.Code.3</th>\n",
       "      <th>RFCD.Percentage.3</th>\n",
       "      <th>RFCD.Code.4</th>\n",
       "      <th>RFCD.Percentage.4</th>\n",
       "      <th>RFCD.Code.5</th>\n",
       "      <th>RFCD.Percentage.5</th>\n",
       "      <th>SEO.Code.1</th>\n",
       "      <th>SEO.Percentage.1</th>\n",
       "      <th>SEO.Code.2</th>\n",
       "      <th>SEO.Percentage.2</th>\n",
       "      <th>SEO.Code.3</th>\n",
       "      <th>SEO.Percentage.3</th>\n",
       "      <th>SEO.Code.4</th>\n",
       "      <th>SEO.Percentage.4</th>\n",
       "      <th>SEO.Code.5</th>\n",
       "      <th>SEO.Percentage.5</th>\n",
       "      <th>Person.ID.1</th>\n",
       "      <th>Role.1</th>\n",
       "      <th>Year.of.Birth.1</th>\n",
       "      <th>Country.of.Birth.1</th>\n",
       "      <th>Home.Language.1</th>\n",
       "      <th>Dept.No..1</th>\n",
       "      <th>Faculty.No..1</th>\n",
       "      <th>With.PHD.1</th>\n",
       "      <th>No..of.Years.in.Uni.at.Time.of.Grant.1</th>\n",
       "      <th>Number.of.Successful.Grant.1</th>\n",
       "      <th>Number.of.Unsuccessful.Grant.1</th>\n",
       "      <th>A..1</th>\n",
       "      <th>A.1</th>\n",
       "      <th>B.1</th>\n",
       "      <th>C.1</th>\n",
       "    </tr>\n",
       "  </thead>\n",
       "  <tbody>\n",
       "    <tr>\n",
       "      <th>0</th>\n",
       "      <td>1</td>\n",
       "      <td>21A</td>\n",
       "      <td>50A</td>\n",
       "      <td>A</td>\n",
       "      <td>230202.0</td>\n",
       "      <td>50.0</td>\n",
       "      <td>230203.0</td>\n",
       "      <td>30.0</td>\n",
       "      <td>230204.0</td>\n",
       "      <td>20.0</td>\n",
       "      <td>0.0</td>\n",
       "      <td>0.0</td>\n",
       "      <td>0.0</td>\n",
       "      <td>0.0</td>\n",
       "      <td>780101.0</td>\n",
       "      <td>100.0</td>\n",
       "      <td>0.0</td>\n",
       "      <td>0.0</td>\n",
       "      <td>0.0</td>\n",
       "      <td>0.0</td>\n",
       "      <td>0.0</td>\n",
       "      <td>0.0</td>\n",
       "      <td>0.0</td>\n",
       "      <td>0.0</td>\n",
       "      <td>493297.0</td>\n",
       "      <td>CHIEF_INVESTIGATOR</td>\n",
       "      <td>1965.0</td>\n",
       "      <td>Australia</td>\n",
       "      <td>NaN</td>\n",
       "      <td>3098.0</td>\n",
       "      <td>31.0</td>\n",
       "      <td>Yes</td>\n",
       "      <td>&gt;=0 to 5</td>\n",
       "      <td>2.0</td>\n",
       "      <td>0.0</td>\n",
       "      <td>0.0</td>\n",
       "      <td>4.0</td>\n",
       "      <td>2.0</td>\n",
       "      <td>0.0</td>\n",
       "    </tr>\n",
       "    <tr>\n",
       "      <th>1</th>\n",
       "      <td>1</td>\n",
       "      <td>4D</td>\n",
       "      <td>10A</td>\n",
       "      <td>D</td>\n",
       "      <td>320801.0</td>\n",
       "      <td>100.0</td>\n",
       "      <td>0.0</td>\n",
       "      <td>0.0</td>\n",
       "      <td>0.0</td>\n",
       "      <td>0.0</td>\n",
       "      <td>0.0</td>\n",
       "      <td>0.0</td>\n",
       "      <td>0.0</td>\n",
       "      <td>0.0</td>\n",
       "      <td>730112.0</td>\n",
       "      <td>100.0</td>\n",
       "      <td>0.0</td>\n",
       "      <td>0.0</td>\n",
       "      <td>0.0</td>\n",
       "      <td>0.0</td>\n",
       "      <td>0.0</td>\n",
       "      <td>0.0</td>\n",
       "      <td>0.0</td>\n",
       "      <td>0.0</td>\n",
       "      <td>330592.0</td>\n",
       "      <td>CHIEF_INVESTIGATOR</td>\n",
       "      <td>1965.0</td>\n",
       "      <td>Australia</td>\n",
       "      <td>NaN</td>\n",
       "      <td>2553.0</td>\n",
       "      <td>25.0</td>\n",
       "      <td>Yes</td>\n",
       "      <td>&gt;=0 to 5</td>\n",
       "      <td>3.0</td>\n",
       "      <td>1.0</td>\n",
       "      <td>0.0</td>\n",
       "      <td>2.0</td>\n",
       "      <td>0.0</td>\n",
       "      <td>0.0</td>\n",
       "    </tr>\n",
       "    <tr>\n",
       "      <th>2</th>\n",
       "      <td>0</td>\n",
       "      <td>NaN</td>\n",
       "      <td>NaN</td>\n",
       "      <td>NaN</td>\n",
       "      <td>320602.0</td>\n",
       "      <td>50.0</td>\n",
       "      <td>321004.0</td>\n",
       "      <td>30.0</td>\n",
       "      <td>321015.0</td>\n",
       "      <td>20.0</td>\n",
       "      <td>0.0</td>\n",
       "      <td>0.0</td>\n",
       "      <td>0.0</td>\n",
       "      <td>0.0</td>\n",
       "      <td>730203.0</td>\n",
       "      <td>60.0</td>\n",
       "      <td>730105.0</td>\n",
       "      <td>20.0</td>\n",
       "      <td>730108.0</td>\n",
       "      <td>20.0</td>\n",
       "      <td>0.0</td>\n",
       "      <td>0.0</td>\n",
       "      <td>0.0</td>\n",
       "      <td>0.0</td>\n",
       "      <td>66887.0</td>\n",
       "      <td>CHIEF_INVESTIGATOR</td>\n",
       "      <td>1955.0</td>\n",
       "      <td>Australia</td>\n",
       "      <td>NaN</td>\n",
       "      <td>2813.0</td>\n",
       "      <td>25.0</td>\n",
       "      <td>NaN</td>\n",
       "      <td>Less than 0</td>\n",
       "      <td>1.0</td>\n",
       "      <td>5.0</td>\n",
       "      <td>0.0</td>\n",
       "      <td>7.0</td>\n",
       "      <td>2.0</td>\n",
       "      <td>0.0</td>\n",
       "    </tr>\n",
       "    <tr>\n",
       "      <th>3</th>\n",
       "      <td>0</td>\n",
       "      <td>51C</td>\n",
       "      <td>20C</td>\n",
       "      <td>A</td>\n",
       "      <td>291503.0</td>\n",
       "      <td>60.0</td>\n",
       "      <td>321402.0</td>\n",
       "      <td>40.0</td>\n",
       "      <td>0.0</td>\n",
       "      <td>0.0</td>\n",
       "      <td>0.0</td>\n",
       "      <td>0.0</td>\n",
       "      <td>0.0</td>\n",
       "      <td>0.0</td>\n",
       "      <td>730114.0</td>\n",
       "      <td>60.0</td>\n",
       "      <td>671401.0</td>\n",
       "      <td>40.0</td>\n",
       "      <td>0.0</td>\n",
       "      <td>0.0</td>\n",
       "      <td>0.0</td>\n",
       "      <td>0.0</td>\n",
       "      <td>0.0</td>\n",
       "      <td>0.0</td>\n",
       "      <td>63812.0</td>\n",
       "      <td>CHIEF_INVESTIGATOR</td>\n",
       "      <td>1950.0</td>\n",
       "      <td>Great Britain</td>\n",
       "      <td>NaN</td>\n",
       "      <td>2553.0</td>\n",
       "      <td>25.0</td>\n",
       "      <td>NaN</td>\n",
       "      <td>more than 15</td>\n",
       "      <td>2.0</td>\n",
       "      <td>1.0</td>\n",
       "      <td>5.0</td>\n",
       "      <td>6.0</td>\n",
       "      <td>9.0</td>\n",
       "      <td>1.0</td>\n",
       "    </tr>\n",
       "    <tr>\n",
       "      <th>4</th>\n",
       "      <td>0</td>\n",
       "      <td>24D</td>\n",
       "      <td>30B</td>\n",
       "      <td>NaN</td>\n",
       "      <td>380107.0</td>\n",
       "      <td>100.0</td>\n",
       "      <td>0.0</td>\n",
       "      <td>0.0</td>\n",
       "      <td>0.0</td>\n",
       "      <td>0.0</td>\n",
       "      <td>0.0</td>\n",
       "      <td>0.0</td>\n",
       "      <td>0.0</td>\n",
       "      <td>0.0</td>\n",
       "      <td>730108.0</td>\n",
       "      <td>50.0</td>\n",
       "      <td>730306.0</td>\n",
       "      <td>50.0</td>\n",
       "      <td>0.0</td>\n",
       "      <td>0.0</td>\n",
       "      <td>0.0</td>\n",
       "      <td>0.0</td>\n",
       "      <td>0.0</td>\n",
       "      <td>0.0</td>\n",
       "      <td>13687.0</td>\n",
       "      <td>CHIEF_INVESTIGATOR</td>\n",
       "      <td>1970.0</td>\n",
       "      <td>Australia</td>\n",
       "      <td>NaN</td>\n",
       "      <td>2923.0</td>\n",
       "      <td>25.0</td>\n",
       "      <td>NaN</td>\n",
       "      <td>Less than 0</td>\n",
       "      <td>0.0</td>\n",
       "      <td>2.0</td>\n",
       "      <td>0.0</td>\n",
       "      <td>0.0</td>\n",
       "      <td>0.0</td>\n",
       "      <td>0.0</td>\n",
       "    </tr>\n",
       "  </tbody>\n",
       "</table>\n",
       "</div>"
      ],
      "text/plain": [
       "   Grant.Status Sponsor.Code Grant.Category.Code  \\\n",
       "0             1          21A                 50A   \n",
       "1             1           4D                 10A   \n",
       "2             0          NaN                 NaN   \n",
       "3             0          51C                 20C   \n",
       "4             0          24D                 30B   \n",
       "\n",
       "  Contract.Value.Band...see.note.A  RFCD.Code.1  RFCD.Percentage.1  \\\n",
       "0                               A      230202.0               50.0   \n",
       "1                               D      320801.0              100.0   \n",
       "2                              NaN     320602.0               50.0   \n",
       "3                               A      291503.0               60.0   \n",
       "4                              NaN     380107.0              100.0   \n",
       "\n",
       "   RFCD.Code.2  RFCD.Percentage.2  RFCD.Code.3  RFCD.Percentage.3  \\\n",
       "0     230203.0               30.0     230204.0               20.0   \n",
       "1          0.0                0.0          0.0                0.0   \n",
       "2     321004.0               30.0     321015.0               20.0   \n",
       "3     321402.0               40.0          0.0                0.0   \n",
       "4          0.0                0.0          0.0                0.0   \n",
       "\n",
       "   RFCD.Code.4  RFCD.Percentage.4  RFCD.Code.5  RFCD.Percentage.5  SEO.Code.1  \\\n",
       "0          0.0                0.0          0.0                0.0    780101.0   \n",
       "1          0.0                0.0          0.0                0.0    730112.0   \n",
       "2          0.0                0.0          0.0                0.0    730203.0   \n",
       "3          0.0                0.0          0.0                0.0    730114.0   \n",
       "4          0.0                0.0          0.0                0.0    730108.0   \n",
       "\n",
       "   SEO.Percentage.1  SEO.Code.2  SEO.Percentage.2  SEO.Code.3  \\\n",
       "0             100.0         0.0               0.0         0.0   \n",
       "1             100.0         0.0               0.0         0.0   \n",
       "2              60.0    730105.0              20.0    730108.0   \n",
       "3              60.0    671401.0              40.0         0.0   \n",
       "4              50.0    730306.0              50.0         0.0   \n",
       "\n",
       "   SEO.Percentage.3  SEO.Code.4  SEO.Percentage.4  SEO.Code.5  \\\n",
       "0               0.0         0.0               0.0         0.0   \n",
       "1               0.0         0.0               0.0         0.0   \n",
       "2              20.0         0.0               0.0         0.0   \n",
       "3               0.0         0.0               0.0         0.0   \n",
       "4               0.0         0.0               0.0         0.0   \n",
       "\n",
       "   SEO.Percentage.5  Person.ID.1              Role.1  Year.of.Birth.1  \\\n",
       "0               0.0     493297.0  CHIEF_INVESTIGATOR           1965.0   \n",
       "1               0.0     330592.0  CHIEF_INVESTIGATOR           1965.0   \n",
       "2               0.0      66887.0  CHIEF_INVESTIGATOR           1955.0   \n",
       "3               0.0      63812.0  CHIEF_INVESTIGATOR           1950.0   \n",
       "4               0.0      13687.0  CHIEF_INVESTIGATOR           1970.0   \n",
       "\n",
       "  Country.of.Birth.1 Home.Language.1  Dept.No..1  Faculty.No..1 With.PHD.1  \\\n",
       "0          Australia             NaN      3098.0           31.0       Yes    \n",
       "1          Australia             NaN      2553.0           25.0       Yes    \n",
       "2          Australia             NaN      2813.0           25.0        NaN   \n",
       "3      Great Britain             NaN      2553.0           25.0        NaN   \n",
       "4          Australia             NaN      2923.0           25.0        NaN   \n",
       "\n",
       "  No..of.Years.in.Uni.at.Time.of.Grant.1  Number.of.Successful.Grant.1  \\\n",
       "0                               >=0 to 5                           2.0   \n",
       "1                               >=0 to 5                           3.0   \n",
       "2                            Less than 0                           1.0   \n",
       "3                           more than 15                           2.0   \n",
       "4                            Less than 0                           0.0   \n",
       "\n",
       "   Number.of.Unsuccessful.Grant.1  A..1  A.1  B.1  C.1  \n",
       "0                             0.0   0.0  4.0  2.0  0.0  \n",
       "1                             1.0   0.0  2.0  0.0  0.0  \n",
       "2                             5.0   0.0  7.0  2.0  0.0  \n",
       "3                             1.0   5.0  6.0  9.0  1.0  \n",
       "4                             2.0   0.0  0.0  0.0  0.0  "
      ]
     },
     "execution_count": 4,
     "metadata": {},
     "output_type": "execute_result"
    }
   ],
   "source": [
    "data.head()"
   ]
  },
  {
   "cell_type": "markdown",
   "metadata": {},
   "source": [
    "Видно, что в датасете есть как числовые, так и номинальные признаки. Получим списки их названий:"
   ]
  },
  {
   "cell_type": "code",
   "execution_count": 5,
   "metadata": {},
   "outputs": [],
   "source": [
    "numeric_cols = ['RFCD.Percentage.1', 'RFCD.Percentage.2', 'RFCD.Percentage.3', \n",
    "                'RFCD.Percentage.4', 'RFCD.Percentage.5',\n",
    "                'SEO.Percentage.1', 'SEO.Percentage.2', 'SEO.Percentage.3',\n",
    "                'SEO.Percentage.4', 'SEO.Percentage.5',\n",
    "                'Year.of.Birth.1', 'Number.of.Successful.Grant.1', 'Number.of.Unsuccessful.Grant.1']\n",
    "categorical_cols = list(set(X.columns.values.tolist()) - set(numeric_cols))"
   ]
  },
  {
   "cell_type": "markdown",
   "metadata": {},
   "source": [
    "Также в нём присутствуют пропущенные значения. Очевидны решением будет исключение всех данных, у которых пропущено хотя бы одно значение. Сделаем это:"
   ]
  },
  {
   "cell_type": "code",
   "execution_count": 6,
   "metadata": {},
   "outputs": [
    {
     "data": {
      "text/plain": [
       "(213, 39)"
      ]
     },
     "execution_count": 6,
     "metadata": {},
     "output_type": "execute_result"
    }
   ],
   "source": [
    "data.dropna().shape"
   ]
  },
  {
   "cell_type": "markdown",
   "metadata": {},
   "source": [
    "Видно, что тогда мы выбросим почти все данные, и такой метод решения в данном случае не сработает.\n",
    "\n",
    "Пропущенные значения можно так же интерпретировать, для этого существует несколько способов, они различаются для номинальных и числовых признаков, принимающих действительное значение (далее вещественных признаков).\n",
    "\n",
    "Для вещественных признаков:\n",
    "- заменить на 0 (в случае линейных классификаторов данный признак давать вклад в предсказание для данного объекта не будет)\n",
    "- заменить на среднее (каждый пропущенный признак будет давать такой же вклад, как и среднее значение признака на датасете)\n",
    "\n",
    "Для номинальных:\n",
    "- интерпретировать пропущенное значение, как ещё одну категорию (данный способ является самым естественным, так как в случае категорий у нас есть уникальная возможность не потерять информацию о наличии пропущенных значений; обратите внимание, что в случае вещественных признаков данная информация неизбежно теряется)"
   ]
  },
  {
   "cell_type": "markdown",
   "metadata": {},
   "source": [
    "##  Задание 1. Обработка пропущенных значений. (3 балла)"
   ]
  },
  {
   "cell_type": "markdown",
   "metadata": {},
   "source": [
    "### 1.1 Обработка вещественных признаков\n",
    "Заполните пропущенные вещественные значения в X нулями и средними по столбцам, назовите полученные датафреймы X_real_zeros и X_real_mean соответственно. Для подсчёта средних используйте описанную ниже функцию calculate_means, которой требуется передать на вход вещественные признаки из исходного датафрейма.\n",
    "\n",
    "Для объединения выборок здесь и далее в задании рекомендуется использовать функции\n",
    "\n",
    "    np.hstack(...)\n",
    "    np.vstack(...)"
   ]
  },
  {
   "cell_type": "code",
   "execution_count": 7,
   "metadata": {},
   "outputs": [],
   "source": [
    "def calculate_means(numeric_data):\n",
    "    means = np.zeros(numeric_data.shape[1])\n",
    "    for j in range(numeric_data.shape[1]):\n",
    "        to_sum = numeric_data.iloc[:,j]\n",
    "        indices = np.nonzero(~numeric_data.iloc[:,j].isnull())[0]\n",
    "        correction = np.amax(to_sum[indices])\n",
    "        to_sum /= correction\n",
    "        for i in indices:\n",
    "            means[j] += to_sum[i]\n",
    "        means[j] /= indices.size\n",
    "        means[j] *= correction\n",
    "    return pd.Series(means, numeric_data.columns)"
   ]
  },
  {
   "cell_type": "code",
   "execution_count": 8,
   "metadata": {},
   "outputs": [],
   "source": [
    "X_real_zeros = data.copy()\n",
    "for col in numeric_cols:\n",
    "    X_real_zeros[col].fillna(0, inplace=True)\n",
    "assert X_real_zeros[numeric_cols].notnull().values.any()"
   ]
  },
  {
   "cell_type": "code",
   "execution_count": 9,
   "metadata": {},
   "outputs": [],
   "source": [
    "X_real_mean = data.copy()\n",
    "mean_values = calculate_means(data[numeric_cols])\n",
    "for col in numeric_cols:\n",
    "    X_real_mean[col].fillna(mean_values[col], inplace=True)\n",
    "assert X_real_mean[numeric_cols].notnull().values.any()"
   ]
  },
  {
   "cell_type": "markdown",
   "metadata": {},
   "source": [
    "### 1.2 Преобразование номинальных признаков."
   ]
  },
  {
   "cell_type": "markdown",
   "metadata": {},
   "source": [
    "В предыдущей ячейке мы разделили наш датасет на две части: в одной присутствуют только вещественные признаки, в другой только номинальные. Это понадобится нам для раздельной последующей обработки этих данных.\n",
    "\n",
    "Для использования большинства моделей требуется преобразовать номинальные признаки в вещественные. Рассмотрим основной способ преоборазования номинальных признаков в вещественные: унитарное кодирование (далее one-hot encoding). Его идея заключается в том, что мы преобразуем номинальный признак при помощи бинарного кода: каждой категории ставим в соответствие набор из нулей и единиц.\n",
    "\n",
    "Посмотрим, как данный метод работает на простом наборе данных."
   ]
  },
  {
   "cell_type": "code",
   "execution_count": 10,
   "metadata": {},
   "outputs": [
    {
     "name": "stdout",
     "output_type": "stream",
     "text": [
      "Исходные данные:\n",
      "\n",
      "      sex nationality\n",
      "0    male    American\n",
      "1  female    European\n",
      "2    male       Asian\n",
      "3  female    European\n",
      "\n",
      "Закодированные данные:\n",
      "\n",
      "[[1. 0. 0. 0. 1.]\n",
      " [0. 0. 1. 1. 0.]\n",
      " [0. 1. 0. 0. 1.]\n",
      " [0. 0. 1. 1. 0.]]\n"
     ]
    }
   ],
   "source": [
    "from sklearn.feature_extraction import DictVectorizer as DV\n",
    "\n",
    "categorial_data = pd.DataFrame({'sex': ['male', 'female', 'male', 'female'], \n",
    "                                'nationality': ['American', 'European', 'Asian', 'European']})\n",
    "print('Исходные данные:\\n')\n",
    "print(categorial_data)\n",
    "encoder = DV(sparse = False)\n",
    "encoded_data = encoder.fit_transform(categorial_data.T.to_dict().values())\n",
    "print('\\nЗакодированные данные:\\n')\n",
    "print(encoded_data)"
   ]
  },
  {
   "cell_type": "markdown",
   "metadata": {},
   "source": [
    "В первых двух столбцах оказалась закодированная информация о поле, в трёх последующих – о стране. При этом для совпадающих элементов выборки строки будут полностью совпадать. Также из примера видно, что кодирование признаков сильно увеличивает их количество, но полностью сохраняет информацию, в том числе о наличии пропущенных значений (их наличие просто становится одним из бинарных признаков в преобразованных данных).\n",
    "\n",
    "Теперь применим one-hot encoding к номинальным признакам из исходного датасета. Обратите внимание на общий для всех методов предобработки данных интерфейс. Функция\n",
    "\n",
    "    encoder.fit_transform(X)\n",
    "    \n",
    "позволяет вычислить необходимые параметры преобразования, впоследствии к новым данным можно уже применять функцию\n",
    "\n",
    "    encoder.transform(X)\n",
    "    \n",
    "Очень важно применять одинаковое преобразование как к обучающим, так и тестовым данным, потому что в противном случае получатся непредсказуемые, и, скорее всего, плохие результаты. В частности, если отдельно закодировать обучающую и тестовую выборку, то получатся разные коды для одних и тех же признаков, и решение работать не будет.\n"
   ]
  },
  {
   "cell_type": "code",
   "execution_count": 11,
   "metadata": {},
   "outputs": [],
   "source": [
    "encoder = DV(sparse = False)\n",
    "X_cat_oh = encoder.fit_transform(data.T.to_dict().values())"
   ]
  },
  {
   "cell_type": "markdown",
   "metadata": {},
   "source": [
    "Для построения метрики качества по результату обучения требуется разделить исходный набор данных на обучающую и тестовую выборки. Сделать это можно с использованием [train_test_split](https://scikit-learn.org/stable/modules/generated/sklearn.model_selection.train_test_split) из sklearn.model_selection."
   ]
  },
  {
   "cell_type": "code",
   "execution_count": 12,
   "metadata": {},
   "outputs": [
    {
     "name": "stdout",
     "output_type": "stream",
     "text": [
      "(4800, 38) (4800,)\n",
      "(1200, 38) (1200,)\n"
     ]
    }
   ],
   "source": [
    "from sklearn.model_selection import train_test_split\n",
    "X_train, X_test, y_train, y_test = train_test_split(X, y, test_size=0.2, random_state = 2)\n",
    "\n",
    "print(X_train.shape, y_train.shape)\n",
    "print(X_test.shape, y_test.shape)"
   ]
  },
  {
   "cell_type": "markdown",
   "metadata": {},
   "source": [
    "### 1.3 Визуализация."
   ]
  },
  {
   "cell_type": "markdown",
   "metadata": {},
   "source": [
    "Визуализация - важный этап обработки данных. Для построения плана решения задачи, очень важно получить полную информацию о имеющихся данных (распределение признаков, среднее значение, мода и т.д.). Согласитесь, что просматривать глазами огромное количество строк в таблице, мягко говоря, не эффективно. Но если перенести всё на график, то можно обнаружить некоторые закономерности, которые позволят сократить объём обрабатываемых данных или укажут направления дальнейших действий.\n",
    "\n",
    "Для визуализации данных хорошо подходят библиотеки [matplotlib](https://python-scripts.com/matplotlib) и [seaborn](http://seaborn.pydata.org). "
   ]
  },
  {
   "cell_type": "markdown",
   "metadata": {},
   "source": [
    "Выберете 5 случайных признаков из набора данных и выведете для них диаграмму рассеяния."
   ]
  },
  {
   "cell_type": "code",
   "execution_count": 13,
   "metadata": {},
   "outputs": [
    {
     "data": {
      "image/png": "[encoded data removed]",
      "text/plain": [
       "<Figure size 432x288 with 1 Axes>"
      ]
     },
     "metadata": {
      "needs_background": "light"
     },
     "output_type": "display_data"
    },
    {
     "data": {
      "image/png": "[encoded data removed]",
      "text/plain": [
       "<Figure size 432x288 with 1 Axes>"
      ]
     },
     "metadata": {
      "needs_background": "light"
     },
     "output_type": "display_data"
    },
    {
     "data": {
      "image/png": "[encoded data removed]",
      "text/plain": [
       "<Figure size 432x288 with 1 Axes>"
      ]
     },
     "metadata": {
      "needs_background": "light"
     },
     "output_type": "display_data"
    },
    {
     "data": {
      "image/png": "[encoded data removed]",
      "text/plain": [
       "<Figure size 432x288 with 1 Axes>"
      ]
     },
     "metadata": {
      "needs_background": "light"
     },
     "output_type": "display_data"
    },
    {
     "data": {
      "image/png": "[encoded data removed]",
      "text/plain": [
       "<Figure size 432x288 with 1 Axes>"
      ]
     },
     "metadata": {
      "needs_background": "light"
     },
     "output_type": "display_data"
    }
   ],
   "source": [
    "num_to_select = 5\n",
    "list_of_random_items = random.sample(numeric_cols, num_to_select)\n",
    "for rnd in list_of_random_items:\n",
    "    plt.scatter(X[rnd], y)\n",
    "    plt.show()"
   ]
  },
  {
   "cell_type": "markdown",
   "metadata": {},
   "source": [
    "Для 1 случайного признака из набора данных выведете его распределение. "
   ]
  },
  {
   "cell_type": "code",
   "execution_count": 14,
   "metadata": {},
   "outputs": [
    {
     "data": {
      "image/png": "[encoded data removed]",
      "text/plain": [
       "<Figure size 432x288 with 1 Axes>"
      ]
     },
     "metadata": {
      "needs_background": "light"
     },
     "output_type": "display_data"
    }
   ],
   "source": [
    "random_sample_dist = data[random.sample(numeric_cols, 1)].hist()"
   ]
  },
  {
   "cell_type": "markdown",
   "metadata": {},
   "source": [
    "Если возникнут проблемы, то можете посмотреть [подсказку](https://habr.com/ru/company/ods/blog/323210/)"
   ]
  },
  {
   "cell_type": "markdown",
   "metadata": {},
   "source": [
    "### 1.4 Масштабирование вещественных признаков."
   ]
  },
  {
   "cell_type": "markdown",
   "metadata": {},
   "source": [
    "Масштабированием называется общий процесс изменения диапазона признака. Это необходимый шаг, потому что признаки измеряются в разных единицах, а значит покрывают разные диапазоны. Это сильно искажает результаты таких алгоритмов, некоторые методы классификации, которые учитывают расстояния между измерениями. А масштабирование позволяет этого избежать."
   ]
  },
  {
   "cell_type": "markdown",
   "metadata": {},
   "source": [
    "По аналогии с вызовом one-hot encoder примените масштабирование вещественных признаков для полученной обучающей и тестовой выборки, используя класс [StandartScaler](https://scikit-learn.org/0.20/modules/generated/sklearn.preprocessing.StandardScaler.html)\n",
    "и его методы \n",
    "\n",
    "        StandartScaler.fit_transform(...)\n",
    "        StandartScaler.transform(...)\n",
    "        \n",
    "Результат выведете в отдельной ячейке"
   ]
  },
  {
   "cell_type": "code",
   "execution_count": 15,
   "metadata": {},
   "outputs": [],
   "source": [
    "a = StandardScaler().fit_transform(X_train[numeric_cols].values, y_train)\n",
    "b = StandardScaler().fit_transform(X_test[numeric_cols].values, y_test)"
   ]
  },
  {
   "cell_type": "code",
   "execution_count": 16,
   "metadata": {},
   "outputs": [
    {
     "data": {
      "text/html": [
       "<div>\n",
       "<style scoped>\n",
       "    .dataframe tbody tr th:only-of-type {\n",
       "        vertical-align: middle;\n",
       "    }\n",
       "\n",
       "    .dataframe tbody tr th {\n",
       "        vertical-align: top;\n",
       "    }\n",
       "\n",
       "    .dataframe thead th {\n",
       "        text-align: right;\n",
       "    }\n",
       "</style>\n",
       "<table border=\"1\" class=\"dataframe\">\n",
       "  <thead>\n",
       "    <tr style=\"text-align: right;\">\n",
       "      <th></th>\n",
       "      <th>0</th>\n",
       "      <th>1</th>\n",
       "      <th>2</th>\n",
       "      <th>3</th>\n",
       "      <th>4</th>\n",
       "      <th>5</th>\n",
       "      <th>6</th>\n",
       "      <th>7</th>\n",
       "      <th>8</th>\n",
       "      <th>9</th>\n",
       "      <th>10</th>\n",
       "      <th>11</th>\n",
       "      <th>12</th>\n",
       "    </tr>\n",
       "  </thead>\n",
       "  <tbody>\n",
       "    <tr>\n",
       "      <th>0</th>\n",
       "      <td>-0.554204</td>\n",
       "      <td>1.159569</td>\n",
       "      <td>-0.589451</td>\n",
       "      <td>-0.141129</td>\n",
       "      <td>-0.072051</td>\n",
       "      <td>-0.434180</td>\n",
       "      <td>0.967421</td>\n",
       "      <td>-0.581123</td>\n",
       "      <td>-0.187495</td>\n",
       "      <td>-0.096917</td>\n",
       "      <td>0.255122</td>\n",
       "      <td>-0.117937</td>\n",
       "      <td>-0.759294</td>\n",
       "    </tr>\n",
       "    <tr>\n",
       "      <th>1</th>\n",
       "      <td>0.934360</td>\n",
       "      <td>-0.909303</td>\n",
       "      <td>-0.589451</td>\n",
       "      <td>-0.141129</td>\n",
       "      <td>-0.072051</td>\n",
       "      <td>0.867327</td>\n",
       "      <td>-0.771001</td>\n",
       "      <td>-0.581123</td>\n",
       "      <td>-0.187495</td>\n",
       "      <td>-0.096917</td>\n",
       "      <td>1.835357</td>\n",
       "      <td>-0.117937</td>\n",
       "      <td>-0.759294</td>\n",
       "    </tr>\n",
       "    <tr>\n",
       "      <th>2</th>\n",
       "      <td>-1.298486</td>\n",
       "      <td>1.159569</td>\n",
       "      <td>1.106659</td>\n",
       "      <td>-0.141129</td>\n",
       "      <td>-0.072051</td>\n",
       "      <td>-0.434180</td>\n",
       "      <td>-0.025963</td>\n",
       "      <td>1.106353</td>\n",
       "      <td>-0.187495</td>\n",
       "      <td>-0.096917</td>\n",
       "      <td>-0.798368</td>\n",
       "      <td>-0.117937</td>\n",
       "      <td>-0.035759</td>\n",
       "    </tr>\n",
       "    <tr>\n",
       "      <th>3</th>\n",
       "      <td>0.934360</td>\n",
       "      <td>-0.909303</td>\n",
       "      <td>-0.589451</td>\n",
       "      <td>-0.141129</td>\n",
       "      <td>-0.072051</td>\n",
       "      <td>1.053257</td>\n",
       "      <td>-1.019347</td>\n",
       "      <td>-0.581123</td>\n",
       "      <td>-0.187495</td>\n",
       "      <td>-0.096917</td>\n",
       "      <td>NaN</td>\n",
       "      <td>NaN</td>\n",
       "      <td>NaN</td>\n",
       "    </tr>\n",
       "    <tr>\n",
       "      <th>4</th>\n",
       "      <td>0.934360</td>\n",
       "      <td>-0.909303</td>\n",
       "      <td>-0.589451</td>\n",
       "      <td>-0.141129</td>\n",
       "      <td>-0.072051</td>\n",
       "      <td>1.053257</td>\n",
       "      <td>-1.019347</td>\n",
       "      <td>-0.581123</td>\n",
       "      <td>-0.187495</td>\n",
       "      <td>-0.096917</td>\n",
       "      <td>0.255122</td>\n",
       "      <td>-0.771816</td>\n",
       "      <td>-0.397527</td>\n",
       "    </tr>\n",
       "  </tbody>\n",
       "</table>\n",
       "</div>"
      ],
      "text/plain": [
       "         0         1         2         3         4         5         6   \\\n",
       "0 -0.554204  1.159569 -0.589451 -0.141129 -0.072051 -0.434180  0.967421   \n",
       "1  0.934360 -0.909303 -0.589451 -0.141129 -0.072051  0.867327 -0.771001   \n",
       "2 -1.298486  1.159569  1.106659 -0.141129 -0.072051 -0.434180 -0.025963   \n",
       "3  0.934360 -0.909303 -0.589451 -0.141129 -0.072051  1.053257 -1.019347   \n",
       "4  0.934360 -0.909303 -0.589451 -0.141129 -0.072051  1.053257 -1.019347   \n",
       "\n",
       "         7         8         9         10        11        12  \n",
       "0 -0.581123 -0.187495 -0.096917  0.255122 -0.117937 -0.759294  \n",
       "1 -0.581123 -0.187495 -0.096917  1.835357 -0.117937 -0.759294  \n",
       "2  1.106353 -0.187495 -0.096917 -0.798368 -0.117937 -0.035759  \n",
       "3 -0.581123 -0.187495 -0.096917       NaN       NaN       NaN  \n",
       "4 -0.581123 -0.187495 -0.096917  0.255122 -0.771816 -0.397527  "
      ]
     },
     "execution_count": 16,
     "metadata": {},
     "output_type": "execute_result"
    }
   ],
   "source": [
    "pd.DataFrame(a).head()"
   ]
  },
  {
   "cell_type": "code",
   "execution_count": 17,
   "metadata": {},
   "outputs": [
    {
     "data": {
      "text/html": [
       "<div>\n",
       "<style scoped>\n",
       "    .dataframe tbody tr th:only-of-type {\n",
       "        vertical-align: middle;\n",
       "    }\n",
       "\n",
       "    .dataframe tbody tr th {\n",
       "        vertical-align: top;\n",
       "    }\n",
       "\n",
       "    .dataframe thead th {\n",
       "        text-align: right;\n",
       "    }\n",
       "</style>\n",
       "<table border=\"1\" class=\"dataframe\">\n",
       "  <thead>\n",
       "    <tr style=\"text-align: right;\">\n",
       "      <th></th>\n",
       "      <th>0</th>\n",
       "      <th>1</th>\n",
       "      <th>2</th>\n",
       "      <th>3</th>\n",
       "      <th>4</th>\n",
       "      <th>5</th>\n",
       "      <th>6</th>\n",
       "      <th>7</th>\n",
       "      <th>8</th>\n",
       "      <th>9</th>\n",
       "      <th>10</th>\n",
       "      <th>11</th>\n",
       "      <th>12</th>\n",
       "    </tr>\n",
       "  </thead>\n",
       "  <tbody>\n",
       "    <tr>\n",
       "      <th>0</th>\n",
       "      <td>0.950531</td>\n",
       "      <td>-0.921679</td>\n",
       "      <td>-0.574963</td>\n",
       "      <td>-0.129577</td>\n",
       "      <td>-0.061509</td>\n",
       "      <td>-1.515445</td>\n",
       "      <td>0.438565</td>\n",
       "      <td>2.748059</td>\n",
       "      <td>-0.203872</td>\n",
       "      <td>-0.121324</td>\n",
       "      <td>1.402170</td>\n",
       "      <td>-0.752828</td>\n",
       "      <td>0.294284</td>\n",
       "    </tr>\n",
       "    <tr>\n",
       "      <th>1</th>\n",
       "      <td>-0.545772</td>\n",
       "      <td>0.098467</td>\n",
       "      <td>1.100876</td>\n",
       "      <td>-0.129577</td>\n",
       "      <td>-0.061509</td>\n",
       "      <td>0.346078</td>\n",
       "      <td>-0.056915</td>\n",
       "      <td>-0.591546</td>\n",
       "      <td>-0.203872</td>\n",
       "      <td>-0.121324</td>\n",
       "      <td>1.402170</td>\n",
       "      <td>-0.752828</td>\n",
       "      <td>-0.355725</td>\n",
       "    </tr>\n",
       "    <tr>\n",
       "      <th>2</th>\n",
       "      <td>-0.545772</td>\n",
       "      <td>0.098467</td>\n",
       "      <td>1.100876</td>\n",
       "      <td>-0.129577</td>\n",
       "      <td>-0.061509</td>\n",
       "      <td>-0.398531</td>\n",
       "      <td>-0.056915</td>\n",
       "      <td>1.078256</td>\n",
       "      <td>-0.203872</td>\n",
       "      <td>-0.121324</td>\n",
       "      <td>-0.744948</td>\n",
       "      <td>-0.752828</td>\n",
       "      <td>-0.680729</td>\n",
       "    </tr>\n",
       "    <tr>\n",
       "      <th>3</th>\n",
       "      <td>0.950531</td>\n",
       "      <td>-0.921679</td>\n",
       "      <td>-0.574963</td>\n",
       "      <td>-0.129577</td>\n",
       "      <td>-0.061509</td>\n",
       "      <td>1.090687</td>\n",
       "      <td>-1.047876</td>\n",
       "      <td>-0.591546</td>\n",
       "      <td>-0.203872</td>\n",
       "      <td>-0.121324</td>\n",
       "      <td>-0.744948</td>\n",
       "      <td>-0.752828</td>\n",
       "      <td>-0.030720</td>\n",
       "    </tr>\n",
       "    <tr>\n",
       "      <th>4</th>\n",
       "      <td>-0.919848</td>\n",
       "      <td>1.628686</td>\n",
       "      <td>-0.574963</td>\n",
       "      <td>-0.129577</td>\n",
       "      <td>-0.061509</td>\n",
       "      <td>-0.770836</td>\n",
       "      <td>1.429526</td>\n",
       "      <td>-0.591546</td>\n",
       "      <td>-0.203872</td>\n",
       "      <td>-0.121324</td>\n",
       "      <td>1.402170</td>\n",
       "      <td>-0.108198</td>\n",
       "      <td>-0.030720</td>\n",
       "    </tr>\n",
       "  </tbody>\n",
       "</table>\n",
       "</div>"
      ],
      "text/plain": [
       "         0         1         2         3         4         5         6   \\\n",
       "0  0.950531 -0.921679 -0.574963 -0.129577 -0.061509 -1.515445  0.438565   \n",
       "1 -0.545772  0.098467  1.100876 -0.129577 -0.061509  0.346078 -0.056915   \n",
       "2 -0.545772  0.098467  1.100876 -0.129577 -0.061509 -0.398531 -0.056915   \n",
       "3  0.950531 -0.921679 -0.574963 -0.129577 -0.061509  1.090687 -1.047876   \n",
       "4 -0.919848  1.628686 -0.574963 -0.129577 -0.061509 -0.770836  1.429526   \n",
       "\n",
       "         7         8         9         10        11        12  \n",
       "0  2.748059 -0.203872 -0.121324  1.402170 -0.752828  0.294284  \n",
       "1 -0.591546 -0.203872 -0.121324  1.402170 -0.752828 -0.355725  \n",
       "2  1.078256 -0.203872 -0.121324 -0.744948 -0.752828 -0.680729  \n",
       "3 -0.591546 -0.203872 -0.121324 -0.744948 -0.752828 -0.030720  \n",
       "4 -0.591546 -0.203872 -0.121324  1.402170 -0.108198 -0.030720  "
      ]
     },
     "execution_count": 17,
     "metadata": {},
     "output_type": "execute_result"
    }
   ],
   "source": [
    "pd.DataFrame(b).head()"
   ]
  },
  {
   "cell_type": "markdown",
   "metadata": {
    "collapsed": true
   },
   "source": [
    "##  Задание 2. Понижение размерности. (2 балла)\n",
    "Понижение размерности на практике позволяет значительно ускорить время обучения модели.\n",
    "\n",
    "Чаще всего используются 2 метода:\n",
    "- PCI\n",
    "- DWT\n",
    "\n",
    "Вайвлеты получили широкое распространение в обработке изображений. \n",
    "\n",
    "Упрощённо, изображение представляют собой таблицу, в ячейках которой хранятся цвета каждого пикселя. Если мы работаем с чёрно-белым (или, точнее, серым) изображением, то вместо цвета в ячейки помещают значения яркости из отрезка [0, 1]. При этом 0 соответствует чёрному цвету, 1 — белому. Но с дробями работать неудобно, поэтому часто значения яркости берут целыми из диапазона от 0 до 255. Тогда каждое значение будет занимать ровно 1 байт.\n",
    "\n",
    "Даже небольшие изображения требуют много памяти для хранения. Так, если мы кодируем яркость каждого пикселя одним байтом, то изображение одного кадра формата FullHD (1920×1080) займёт почти два мегабайта. Представьте, сколько памяти потребуется для хранения полуторачасового фильма!\n",
    "\n",
    "У «реальных» изображений, таких как фотографии, есть одна особенность — яркость соседних пикселей обычно отличается на небольшую величину. Поэтому, если мы возьмём 2 соседних пикселя и усредним их значения, то мы сможем уменьшить размер фотографии в 2 раза."
   ]
  },
  {
   "cell_type": "markdown",
   "metadata": {},
   "source": [
    "### 2.1 Вайвлет преобразование Хаара.\n",
    "Дискретное вейвлет-преобразование (DWT – discrete wavelet transform) впервые предложено венгерским математиком Альфредом Хааром в 1909 г. Идея состоит в преобразовании ряда значений какой-либо величины (чаще всего временного ряда) в совокупность коэффициентов, представляющих этот ряд в сопряжённом линейном пространстве. Коэффициенты – это веса при базисных векторах вейвлета.\n",
    "\n",
    "Как строится вейвлет-преобразование и как выбираются эти базисные вектора?\n",
    "\n",
    "Пусть S – фрагмент временного ряда, который мы хотим компактно представить.\n",
    "\n",
    "1. Среднее значение выборки S берется в качестве 1-го коэффициента вейвлета.\n",
    "\n",
    "2. Рассчитывается величина, равная 1/2 разницы между средними значениями 1-й и 2-й половин временного ряда. Она берётся в качестве 2-го коэффициента вейвлета.\n",
    "\n",
    "3. Эта процедура рекурсивно повторяется для каждой из двух половин выборки S до тех пор, пока мы не получим требуемую точность представления.\n",
    "\n",
    "Пример: Есть цифровой термометр, который делает отсчёты каждую секунду. За 12 часов наберётся 12*60*60 = 43200 отсчётов. Теперь пусть у нас есть система анализа метеорологической информации: термометры расставлены на метеостанциях с шагом 25 – 50 км. Объём данных за сутки будет огромным. Нужно ли хранить их все? Соседние отсчёты обычно слабо отличаются – требуется сохранить только общую тенденцию.\n",
    "\n",
    "Пусть q – длина выборки (для простоты считаем её равной степени 2). Для каждой величины $k\\geq 1$ вейвлет Хаара определяется $2^{k-1}$ коэффициентами порядка k. Каждый из этих коэффициентов описывает непрерывный отрезок выборки длиной $\\frac{q}{2^{k-1}}$ i-й из этих $2^{k-1}$ коэффициентов соответствует отрезку выборки начиная с $\\frac{(i-1)-q}{2^{k-1}}$ по $\\frac{i-q}{2^{k-1}}$ отсчёт включительно. Этот коэффициент обозначается через $\\psi^{i}_{k}$, а соответствующий отрезок выборки – через $S^{i}_{k}$. Обозначим первую половину S через $a^{i}_{k}$, вторую половину – через $b^{i}_{k}$.\n",
    "Тогда $\\psi^{i}_{k} = \\frac{a^{i}_{k} - b^{i}_{k}}{2}$.\n",
    "\n",
    "Множество коэффициентов вейвлета Хаара состоит из всех коэффициентов порядков от 1-го до $log_{2}(q)$-го.\n",
    "\n",
    "![](https://pp.userapi.com/c849224/v849224987/12a058/EoCgfl49UnE.jpg)"
   ]
  },
  {
   "cell_type": "markdown",
   "metadata": {},
   "source": [
    "В качестве первого задания Вам предлагается посчитать коэффициенты 1-го порядка для изображения jackal.jpg\n",
    "\n",
    "Для начала посмотрим что это за картинка и выведем её."
   ]
  },
  {
   "cell_type": "code",
   "execution_count": 18,
   "metadata": {},
   "outputs": [
    {
     "data": {
      "image/png": "[encoded data removed]",
      "text/plain": [
       "<Figure size 576x576 with 1 Axes>"
      ]
     },
     "metadata": {
      "needs_background": "light"
     },
     "output_type": "display_data"
    }
   ],
   "source": [
    "import matplotlib.image as mpimg\n",
    "def show_img(img):\n",
    "    plt.figure(figsize=(8, 8))\n",
    "    plt.imshow(img)\n",
    "    plt.grid(False)\n",
    "    plt.axis('off')\n",
    "    plt.show()\n",
    "\n",
    "path = 'jackal.jpg'\n",
    "img = mpimg.imread(path)\n",
    "show_img(img.astype('uint8'))"
   ]
  },
  {
   "cell_type": "markdown",
   "metadata": {},
   "source": [
    "Теперь посмотрим, как её видит компьютер."
   ]
  },
  {
   "cell_type": "code",
   "execution_count": 19,
   "metadata": {},
   "outputs": [
    {
     "name": "stdout",
     "output_type": "stream",
     "text": [
      "(256, 256, 3)\n"
     ]
    }
   ],
   "source": [
    "print(img.shape)"
   ]
  },
  {
   "cell_type": "code",
   "execution_count": 20,
   "metadata": {},
   "outputs": [
    {
     "name": "stdout",
     "output_type": "stream",
     "text": [
      "[[[ 49  95  93]\n",
      "  [ 88 136 136]\n",
      "  [107 158 159]\n",
      "  [106 160 160]\n",
      "  [116 172 171]]\n",
      "\n",
      " [[ 54 100  98]\n",
      "  [ 99 149 148]\n",
      "  [120 171 172]\n",
      "  [111 165 165]\n",
      "  [117 173 172]]\n",
      "\n",
      " [[ 58 107 104]\n",
      "  [111 161 160]\n",
      "  [128 182 182]\n",
      "  [114 170 169]\n",
      "  [117 173 172]]\n",
      "\n",
      " [[ 63 113 110]\n",
      "  [113 165 163]\n",
      "  [127 181 181]\n",
      "  [111 167 166]\n",
      "  [116 172 169]]\n",
      "\n",
      " [[ 73 123 120]\n",
      "  [112 164 162]\n",
      "  [120 174 174]\n",
      "  [107 163 162]\n",
      "  [117 173 170]]]\n"
     ]
    }
   ],
   "source": [
    "print(img[120:125,120:125])"
   ]
  },
  {
   "cell_type": "markdown",
   "metadata": {},
   "source": [
    "Как и было сказано выше, это таблица, в ячейках которой хранятся цвета каждого пикселя.\n",
    "Так как нам надо посчитать полуразность соседних двух элементов, то смысла возиться с трёхмерной матрицей нет. Давайте преобразуем её в массив с помощью функции [reshape](https://docs.scipy.org/doc/numpy/reference/generated/numpy.reshape.html) из numpy.\n"
   ]
  },
  {
   "cell_type": "code",
   "execution_count": 21,
   "metadata": {},
   "outputs": [
    {
     "data": {
      "text/plain": [
       "(65536, 3)"
      ]
     },
     "execution_count": 21,
     "metadata": {},
     "output_type": "execute_result"
    }
   ],
   "source": [
    "rows = img.shape[0]\n",
    "cols = img.shape[1]\n",
    "\n",
    "flat_img = img.reshape(rows * cols, 3).astype(np.float)\n",
    "\n",
    "flat_img.shape"
   ]
  },
  {
   "cell_type": "markdown",
   "metadata": {},
   "source": [
    "### 2.2 Реализовать функцию, подсчитывающую коэффициенты Хаара."
   ]
  },
  {
   "cell_type": "code",
   "execution_count": 22,
   "metadata": {},
   "outputs": [],
   "source": [
    "def Haar_coefficients(flat_img):\n",
    "    size_i, size_j = flat_img.shape\n",
    "    result = np.zeros(shape=(int(size_i/2), size_j))\n",
    "#     wavelet_minus = []\n",
    "\n",
    "    for i in range(0, len(flat_img), 2):\n",
    "        tmp = (flat_img[i] - flat_img[i+1])/2\n",
    "        result[int(i/2)] = tmp\n",
    "\n",
    "    return result"
   ]
  },
  {
   "cell_type": "code",
   "execution_count": 23,
   "metadata": {},
   "outputs": [
    {
     "name": "stdout",
     "output_type": "stream",
     "text": [
      "[0. 0. 0.]\n",
      "[0. 0. 0.]\n",
      "[0. 0. 0.]\n",
      "[0. 0. 0.]\n",
      "[0. 0. 0.]\n",
      "[0. 0. 0.]\n",
      "[0. 0. 0.]\n",
      "[0. 0. 0.]\n",
      "[0. 0. 0.]\n",
      "[-0.5 -0.5 -0.5]\n",
      "[0. 0. 0.]\n",
      "[0. 0. 0.]\n",
      "[0. 0. 0.]\n",
      "[0. 0. 0.]\n",
      "[0. 0. 0.]\n",
      "[0.5 0.5 0.5]\n",
      "[0. 0. 0.]\n",
      "[0. 0. 0.]\n",
      "[0. 0. 0.]\n",
      "[0. 0. 0.]\n"
     ]
    }
   ],
   "source": [
    "result=Haar_coefficients(flat_img)\n",
    "# for i in range(result.shape[0]):\n",
    "for i in range(20):\n",
    "    print(result[i])"
   ]
  },
  {
   "cell_type": "markdown",
   "metadata": {},
   "source": [
    "### 2.3 Сжатие изображения"
   ]
  },
  {
   "cell_type": "markdown",
   "metadata": {},
   "source": [
    "Ок, мы получили коэффициенты, но где же обещенное сжатие изображения?!\n",
    "\n",
    "Чтобы получить сжатое изображение, нам надо заменить знак `-` на `+` в формуле:\n",
    "\n",
    "$$\\psi^{i}_{k} = \\frac{a^{i}_{k} - b^{i}_{k}}{2} \\rightarrow \\psi^{i}_{k} = \\frac{a^{i}_{k} + b^{i}_{k}}{2}$$\n",
    "\n",
    "Теперь вместо коэффициентов Хаара мы получим среднее значение между двумя соседними пикселями, что позволит уменьшить размер изображения в 2 раза.\n",
    "\n",
    "Про numpy.array можно почитать в [документации](https://docs.scipy.org/doc/numpy/reference/generated/numpy.array.html)"
   ]
  },
  {
   "cell_type": "code",
   "execution_count": 24,
   "metadata": {},
   "outputs": [],
   "source": [
    "def compression(flat_img):\n",
    "  \n",
    "    size_i, size_j = flat_img.shape\n",
    "    result2 = np.zeros(shape=(int(size_i/2), size_j))\n",
    "\n",
    "    for i in range(0, len(flat_img), 2):\n",
    "        tmp = (flat_img[i] + flat_img[i+1])/2\n",
    "#         print(tmp)\n",
    "        result[int(i/2)] = tmp\n",
    "   \n",
    "    return result2"
   ]
  },
  {
   "cell_type": "markdown",
   "metadata": {},
   "source": [
    "Сожмём исходное изображение"
   ]
  },
  {
   "cell_type": "code",
   "execution_count": 25,
   "metadata": {},
   "outputs": [
    {
     "name": "stdout",
     "output_type": "stream",
     "text": [
      "(32768, 3)\n",
      "[255. 255. 255.]\n",
      "[255. 255. 255.]\n",
      "[255. 255. 255.]\n",
      "[255. 255. 255.]\n",
      "[255. 255. 255.]\n",
      "[255. 255. 255.]\n",
      "[255. 255. 255.]\n",
      "[255. 255. 255.]\n",
      "[254. 254. 254.]\n",
      "[254.5 254.5 254.5]\n",
      "[255. 255. 255.]\n",
      "[255. 255. 255.]\n",
      "[255. 255. 255.]\n",
      "[255. 255. 255.]\n",
      "[255. 255. 255.]\n",
      "[254.5 254.5 254.5]\n",
      "[252. 252. 252.]\n",
      "[252. 252. 252.]\n",
      "[253. 253. 253.]\n",
      "[253. 253. 253.]\n"
     ]
    }
   ],
   "source": [
    "new_img=compression(flat_img)\n",
    "print(new_img.shape)\n",
    "# for i in range(result.shape[0]):\n",
    "for i in range(20):\n",
    "    print(result[i])"
   ]
  }
 ],
 "metadata": {
  "kernelspec": {
   "display_name": "Python 3",
   "language": "python",
   "name": "python3"
  },
  "language_info": {
   "codemirror_mode": {
    "name": "ipython",
    "version": 3
   },
   "file_extension": ".py",
   "mimetype": "text/x-python",
   "name": "python",
   "nbconvert_exporter": "python",
   "pygments_lexer": "ipython3",
   "version": "3.7.1"
  }
 },
 "nbformat": 4,
 "nbformat_minor": 1
}
